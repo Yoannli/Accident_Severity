{
 "cells": [
  {
   "cell_type": "code",
   "execution_count": 3,
   "metadata": {},
   "outputs": [],
   "source": [
    "import pandas as pd\n",
    "import numpy as np\n",
    "import feather\n",
    "import seaborn as sns\n",
    "from matplotlib import pyplot as plt\n",
    "from collections import Counter\n",
    "from sklearn.model_selection import train_test_split, GridSearchCV, StratifiedKFold\n",
    "from sklearn.metrics import confusion_matrix, accuracy_score, precision_score, recall_score, f1_score\n",
    "from sklearn import svm\n",
    "from sklearn.preprocessing import RobustScaler\n",
    "import tensorflow as tf\n",
    "\n",
    "import warnings\n",
    "warnings.filterwarnings(\"ignore\")"
   ]
  },
  {
   "cell_type": "code",
   "execution_count": 2,
   "metadata": {},
   "outputs": [],
   "source": [
    "FILENAME = \"final_data\"\n",
    "data = feather.read_dataframe(f\"Datasets/{FILENAME}.feather\")"
   ]
  },
  {
   "cell_type": "markdown",
   "metadata": {},
   "source": [
    "### Train test split\n",
    "Sample 100,000 instances to make testing faster."
   ]
  },
  {
   "cell_type": "code",
   "execution_count": 21,
   "metadata": {},
   "outputs": [],
   "source": [
    "temp = data.sample(100000, random_state=111).reset_index(drop=True)\n",
    "X = temp.drop('Severity', axis=1)\n",
    "y = temp['Severity']\n",
    "\n",
    "X_train, X_test, y_train, y_test = train_test_split(X, y, stratify=y, test_size=0.20, random_state=305)"
   ]
  },
  {
   "cell_type": "markdown",
   "metadata": {},
   "source": [
    "# Testing Out Models"
   ]
  },
  {
   "cell_type": "markdown",
   "metadata": {},
   "source": [
    "### Distribution of target variable (Zero-R classifier)"
   ]
  },
  {
   "cell_type": "code",
   "execution_count": 5,
   "metadata": {},
   "outputs": [
    {
     "data": {
      "text/plain": [
       "0    74.747\n",
       "1    25.253\n",
       "Name: Severity, dtype: float64"
      ]
     },
     "execution_count": 5,
     "metadata": {},
     "output_type": "execute_result"
    }
   ],
   "source": [
    "# Distribution of severity variable (as percentage)\n",
    "temp[\"Severity\"].value_counts()/len(temp)*100"
   ]
  },
  {
   "cell_type": "markdown",
   "metadata": {},
   "source": [
    "### K-nearest neighbours"
   ]
  },
  {
   "cell_type": "code",
   "execution_count": 33,
   "metadata": {},
   "outputs": [],
   "source": [
    "from sklearn.neighbors import KNeighborsClassifier\n",
    "\n",
    "ks = range(6,100,4)\n",
    "train_accs = []\n",
    "test_accs = []\n",
    "\n",
    "for k in ks:\n",
    "    nn = KNeighborsClassifier(n_neighbors=k).fit(X_train, y_train)\n",
    "    train_accs.append(accuracy_score(y_train, nn.predict(X_train)))\n",
    "    test_accs.append(accuracy_score(y_test, nn.predict(X_test)))"
   ]
  },
  {
   "cell_type": "code",
   "execution_count": 37,
   "metadata": {},
   "outputs": [
    {
     "data": {
      "image/png": "[encoded data removed]",
      "text/plain": [
       "<Figure size 432x288 with 1 Axes>"
      ]
     },
     "metadata": {},
     "output_type": "display_data"
    },
    {
     "name": "stdout",
     "output_type": "stream",
     "text": [
      "Maximum test accuracy (0.7635) occurs when K = 50\n"
     ]
    }
   ],
   "source": [
    "sns.set_style(\"darkgrid\")\n",
    "\n",
    "plt.plot(ks, train_accs, label='Train')\n",
    "plt.plot(ks, test_accs, label='Test')\n",
    "plt.ylabel('Accuracy')\n",
    "plt.xlabel(\"K\")\n",
    "plt.xticks(range(6,100,8))\n",
    "plt.title(\"Accuracy against K-nearest neighbour\")\n",
    "\n",
    "plt.legend()\n",
    "plt.show()\n",
    "\n",
    "max_acc = max(test_accs)\n",
    "print(f\"Maximum test accuracy ({max_acc}) occurs when K = {ks[test_accs.index(max_acc)]}\")"
   ]
  },
  {
   "cell_type": "markdown",
   "metadata": {},
   "source": [
    "### Logistic Regression"
   ]
  },
  {
   "cell_type": "code",
   "execution_count": 39,
   "metadata": {},
   "outputs": [],
   "source": [
    "from sklearn.linear_model import LogisticRegression\n",
    "\n",
    "# lgr = LogisticRegression(solver='liblinear')\n",
    "# lgr.fit(X_train,y_train)\n",
    "# print(\"Basic logistic Regression Accuracy:\", lgr.score(X_test,y_test))"
   ]
  },
  {
   "cell_type": "code",
   "execution_count": 40,
   "metadata": {},
   "outputs": [
    {
     "name": "stdout",
     "output_type": "stream",
     "text": [
      "              precision    recall  f1-score   support\n",
      "\n",
      "           0       0.86      0.70      0.78     14891\n",
      "           1       0.44      0.68      0.53      5109\n",
      "\n",
      "   micro avg       0.70      0.70      0.70     20000\n",
      "   macro avg       0.65      0.69      0.65     20000\n",
      "weighted avg       0.76      0.70      0.71     20000\n",
      "\n"
     ]
    }
   ],
   "source": [
    "clf_base = LogisticRegression()\n",
    "grid = {'C': 10.0 ** np.arange(-2, 3),\n",
    "        'penalty': ['l1', 'l2'],\n",
    "        'class_weight': ['balanced']}\n",
    "clf_lr = GridSearchCV(clf_base, grid, cv=5, n_jobs=8, scoring='f1_macro')\n",
    "\n",
    "clf_lr.fit(X_train, y_train)\n",
    "\n",
    "coef = clf_lr.best_estimator_.coef_\n",
    "intercept = clf_lr.best_estimator_.intercept_\n",
    "print (classification_report(y_test, clf_lr.predict(X_test)))"
   ]
  },
  {
   "cell_type": "code",
   "execution_count": 41,
   "metadata": {},
   "outputs": [
    {
     "data": {
      "text/plain": [
       "0.6969"
      ]
     },
     "execution_count": 41,
     "metadata": {},
     "output_type": "execute_result"
    }
   ],
   "source": [
    "accuracy_score(y_test, clf_lr.predict(X_test))"
   ]
  },
  {
   "cell_type": "markdown",
   "metadata": {},
   "source": [
    "### SVM"
   ]
  },
  {
   "cell_type": "code",
   "execution_count": 6,
   "metadata": {},
   "outputs": [
    {
     "data": {
      "text/plain": [
       "SVC(C=0.01, cache_size=200, class_weight=None, coef0=0.0,\n",
       "  decision_function_shape='ovr', degree=3, gamma='auto_deprecated',\n",
       "  kernel='linear', max_iter=-1, probability=True, random_state=None,\n",
       "  shrinking=True, tol=0.001, verbose=False)"
      ]
     },
     "execution_count": 6,
     "metadata": {},
     "output_type": "execute_result"
    }
   ],
   "source": [
    "svc = svm.SVC(kernel=\"linear\", C=0.01, probability=True)\n",
    "svc.fit(X_train, y_train)"
   ]
  },
  {
   "cell_type": "code",
   "execution_count": 8,
   "metadata": {},
   "outputs": [
    {
     "data": {
      "text/plain": [
       "0.75005"
      ]
     },
     "execution_count": 8,
     "metadata": {},
     "output_type": "execute_result"
    }
   ],
   "source": [
    "accuracy_score(y_test, svc.predict(X_test))"
   ]
  },
  {
   "cell_type": "code",
   "execution_count": 10,
   "metadata": {},
   "outputs": [],
   "source": [
    "from sklearn.pipeline import make_pipeline\n",
    "from sklearn.preprocessing import StandardScaler\n",
    "\n",
    "clf = make_pipeline(StandardScaler(), svm.SVC(kernel=\"linear\", C=0.01, probability=True))"
   ]
  },
  {
   "cell_type": "code",
   "execution_count": 11,
   "metadata": {},
   "outputs": [
    {
     "data": {
      "text/plain": [
       "Pipeline(memory=None,\n",
       "     steps=[('standardscaler', StandardScaler(copy=True, with_mean=True, with_std=True)), ('svc', SVC(C=0.01, cache_size=200, class_weight=None, coef0=0.0,\n",
       "  decision_function_shape='ovr', degree=3, gamma='auto_deprecated',\n",
       "  kernel='linear', max_iter=-1, probability=True, random_state=None,\n",
       "  shrinking=True, tol=0.001, verbose=False))])"
      ]
     },
     "execution_count": 11,
     "metadata": {},
     "output_type": "execute_result"
    }
   ],
   "source": [
    "clf.fit(X_train, y_train)"
   ]
  },
  {
   "cell_type": "code",
   "execution_count": 12,
   "metadata": {
    "scrolled": true
   },
   "outputs": [
    {
     "data": {
      "text/plain": [
       "0.74555"
      ]
     },
     "execution_count": 12,
     "metadata": {},
     "output_type": "execute_result"
    }
   ],
   "source": [
    "accuracy_score(y_test, clf.predict(X_test))"
   ]
  },
  {
   "cell_type": "markdown",
   "metadata": {},
   "source": [
    "### Neural Network"
   ]
  },
  {
   "cell_type": "code",
   "execution_count": 6,
   "metadata": {},
   "outputs": [],
   "source": [
    "def my_nn(X_train,y_train,X_test,y_test,neuron_size,epoch_size, extra_info=0):\n",
    "    # constructing the neural network. Returns the test accuracy\n",
    "    BATCH_SIZE = 128\n",
    "    \n",
    "    model = tf.keras.Sequential()\n",
    "    model.add(tf.keras.layers.Dense(neuron_size,input_dim=X_train.shape[1], activation='relu'))\n",
    "    model.add(tf.keras.layers.Dense(int(2/3*neuron_size), activation=tf.nn.leaky_relu))\n",
    "    model.add(tf.keras.layers.Dense(1, activation=\"sigmoid\"))\n",
    "    # Compile model\n",
    "    model.compile(loss='binary_crossentropy', optimizer='adam', metrics=['accuracy'])\n",
    "    model.fit(X_train, y_train, epochs=epoch_size, batch_size=BATCH_SIZE, verbose=0)\n",
    "\n",
    "    y_pred = model.predict(X_test)\n",
    "    y_pred = [0 if i[0]<0.5 else 1 for i in y_pred] #Convert to 0 and 1\n",
    "    test_acc = accuracy_score(y_test, y_pred)\n",
    "    if extra_info:\n",
    "        # if want to display extra metrics and a confusion matrix\n",
    "        print(\"Precision: \", precision_score(y_test,y_pred))\n",
    "        print(\"Recall:    \", recall_score(y_test,y_pred))\n",
    "        print(\"F1 score:  \", f1_score(y_test,y_pred))\n",
    "        \n",
    "        cm=confusion_matrix(y_test,y_pred)\n",
    "        cm = pd.DataFrame(cm, index = [i for i in \"01\"],\n",
    "                          columns = [i for i in \"01\"])\n",
    "        cm.index.name = 'Actual'\n",
    "        cm.columns.name = 'Predicted'\n",
    "        sns.heatmap(cm, annot=True, \n",
    "                    cmap='Blues', cbar=False)\n",
    "        plt.title(\"Confusion matrix\")\n",
    "        plt.show()\n",
    "        \n",
    "    return test_acc"
   ]
  },
  {
   "cell_type": "code",
   "execution_count": 99,
   "metadata": {},
   "outputs": [
    {
     "name": "stdout",
     "output_type": "stream",
     "text": [
      "Fold 1 test accuracy = 0.7737113144342783\n",
      "Fold 2 test accuracy = 0.775411229438528\n",
      "Fold 3 test accuracy = 0.7743\n",
      "Fold 4 test accuracy = 0.7752887644382219\n",
      "Fold 5 test accuracy = 0.7713885694284714\n",
      "Average Accuracy:  0.7738999999999999\n"
     ]
    }
   ],
   "source": [
    "skf = StratifiedKFold(n_splits=5, random_state=30034, shuffle=True)\n",
    "fold_no = 1\n",
    "accs = []  # store each accuracy\n",
    "X = RobustScaler(quantile_range=(25, 75)).fit_transform(X)\n",
    "\n",
    "for train_index, test_index in skf.split(X, y):\n",
    "    X_train = X[train_index]\n",
    "    X_test = X[test_index]\n",
    "    y_train = y[train_index]\n",
    "    y_test = y[test_index]\n",
    "    acc = my_nn(X_train,y_train,X_test,y_test,30,10)\n",
    "    accs.append(acc)\n",
    "    print(f\"Fold {str(fold_no)} test accuracy = {acc}\")\n",
    "    fold_no+=1\n",
    "    \n",
    "print(\"Average Accuracy: \",np.mean(accuracies))"
   ]
  },
  {
   "cell_type": "markdown",
   "metadata": {},
   "source": [
    "| Model | Best test accuracy |\n",
    "| --- | --- |\n",
    "| Zero-R (Baseline) | 74.75 |\n",
    "| Logistic Regression | 69.69 |\n",
    "| SVM | 75.01 |\n",
    "| 50-nearest neighbours | 76.35 |\n",
    "| Neural network | 77.39 |\n",
    "\n",
    "Since the neural network seems to be performing the best, I will choose to explore this model further and tune the hyperparameters."
   ]
  },
  {
   "cell_type": "markdown",
   "metadata": {},
   "source": [
    "# Improving the neural network model"
   ]
  },
  {
   "cell_type": "code",
   "execution_count": 4,
   "metadata": {},
   "outputs": [],
   "source": [
    "temp = data.sample(500000, random_state=111).reset_index(drop=True)\n",
    "X = temp.drop('Severity', axis=1)\n",
    "y = temp['Severity']\n",
    "\n",
    "X = RobustScaler(quantile_range=(25, 75)).fit_transform(X)\n",
    "X_train, X_test, y_train, y_test = train_test_split(X, y, stratify=y, test_size=0.20, random_state=305)"
   ]
  },
  {
   "cell_type": "markdown",
   "metadata": {},
   "source": [
    "### Number of neurons"
   ]
  },
  {
   "cell_type": "code",
   "execution_count": 19,
   "metadata": {},
   "outputs": [
    {
     "data": {
      "text/plain": [
       "(500000, 81)"
      ]
     },
     "execution_count": 19,
     "metadata": {},
     "output_type": "execute_result"
    }
   ],
   "source": [
    "X.shape"
   ]
  },
  {
   "cell_type": "code",
   "execution_count": 8,
   "metadata": {},
   "outputs": [],
   "source": [
    "accs = []\n",
    "neuron_size = range(10, X.shape[1], 5) # the number of neurons need to be between 0 and number of features\n",
    "\n",
    "for i in neuron_size:\n",
    "    acc = my_nn(X_train,y_train,X_test,y_test,i,10)\n",
    "    accs.append(acc)"
   ]
  },
  {
   "cell_type": "code",
   "execution_count": 9,
   "metadata": {},
   "outputs": [
    {
     "name": "stdout",
     "output_type": "stream",
     "text": [
      "Max accuracy (0.77856) when neuron size = 60\n"
     ]
    },
    {
     "data": {
      "image/png": "[encoded data removed]",
      "text/plain": [
       "<Figure size 432x288 with 1 Axes>"
      ]
     },
     "metadata": {},
     "output_type": "display_data"
    }
   ],
   "source": [
    "#plotting line graph of accuracy vs neuron_size\n",
    "sns.set_style(\"darkgrid\")\n",
    "plt.plot(neuron_size, accs)\n",
    "plt.xlabel(\"Number of neurons\")\n",
    "plt.xticks(neuron_size)\n",
    "plt.ylabel(\"Test accuracy\")\n",
    "plt.title(\"Test accuracies against the number of neurons in first hidden layer\")\n",
    "best_neuron_size = neuron_size[np.argmax(accs)]\n",
    "print(f\"Max accuracy ({max(accs)}) when neuron size = {best_neuron_size}\")"
   ]
  },
  {
   "cell_type": "markdown",
   "metadata": {},
   "source": [
    "### Early stopping"
   ]
  },
  {
   "cell_type": "code",
   "execution_count": 10,
   "metadata": {},
   "outputs": [],
   "source": [
    "model = tf.keras.Sequential()\n",
    "model.add(tf.keras.layers.Dense(100,input_dim=X_train.shape[1], activation='relu'))\n",
    "model.add(tf.keras.layers.Dense(int(2/3*100), activation=tf.nn.leaky_relu))\n",
    "model.add(tf.keras.layers.Dense(1, activation=\"sigmoid\"))\n",
    "model.compile(loss='binary_crossentropy', optimizer='adam', metrics=['accuracy'])\n",
    "\n",
    "history = model.fit(X_train,y_train,validation_split=0.2, verbose=0,epochs=40)"
   ]
  },
  {
   "cell_type": "code",
   "execution_count": 12,
   "metadata": {},
   "outputs": [
    {
     "data": {
      "image/png": "[encoded data removed]",
      "text/plain": [
       "<Figure size 432x288 with 1 Axes>"
      ]
     },
     "metadata": {},
     "output_type": "display_data"
    }
   ],
   "source": [
    "sns.set_style(\"darkgrid\")\n",
    "\n",
    "plt.plot(history.history['loss'], label='Train')\n",
    "plt.plot(history.history['val_loss'], label='Validation')\n",
    "plt.ylabel('Loss')\n",
    "plt.xlabel(\"Epoch\")\n",
    "plt.xticks(range(0,41,2))\n",
    "plt.title(\"Loss against number of epochs\")\n",
    "\n",
    "plt.legend()\n",
    "plt.show()"
   ]
  },
  {
   "cell_type": "markdown",
   "metadata": {},
   "source": [
    "Since the validation lost seems to increase around 5 epochs onwards, there is no point using a greater number of epochs since it will cause overfitting. "
   ]
  },
  {
   "cell_type": "markdown",
   "metadata": {},
   "source": [
    "# Final evaluation"
   ]
  },
  {
   "cell_type": "code",
   "execution_count": 13,
   "metadata": {},
   "outputs": [],
   "source": [
    "X = data.drop('Severity', axis=1)\n",
    "X = RobustScaler(quantile_range=(25, 75)).fit_transform(X)\n",
    "y = data['Severity']\n",
    "X_train, X_test, y_train, y_test = train_test_split(X, y, stratify=y, test_size=0.20, random_state=305)\n",
    "\n",
    "EPOCHS = 5\n",
    "NEURON_SIZE = 60"
   ]
  },
  {
   "cell_type": "markdown",
   "metadata": {},
   "source": [
    "### Train test split"
   ]
  },
  {
   "cell_type": "code",
   "execution_count": 14,
   "metadata": {},
   "outputs": [
    {
     "name": "stdout",
     "output_type": "stream",
     "text": [
      "Precision:  0.6230555734847996\n",
      "Recall:     0.31994652642743504\n",
      "F1 score:   0.42278689840938455\n"
     ]
    },
    {
     "data": {
      "image/png": "[encoded data removed]",
      "text/plain": [
       "<Figure size 432x288 with 1 Axes>"
      ]
     },
     "metadata": {},
     "output_type": "display_data"
    },
    {
     "name": "stdout",
     "output_type": "stream",
     "text": [
      "Test accuracy for simple train test split = 0.7782566875212075\n"
     ]
    }
   ],
   "source": [
    "acc = my_nn(X_train, y_train,X_test,y_test, NEURON_SIZE, EPOCHS, extra_info=1)\n",
    "print(f\"Test accuracy for simple train test split = {acc}\")"
   ]
  },
  {
   "cell_type": "markdown",
   "metadata": {},
   "source": [
    "### Stratified k fold"
   ]
  },
  {
   "cell_type": "code",
   "execution_count": 15,
   "metadata": {
    "scrolled": true
   },
   "outputs": [
    {
     "name": "stdout",
     "output_type": "stream",
     "text": [
      "Fold 1 test accuracy = 0.7781389075062325\n",
      "Fold 2 test accuracy = 0.7765320515876466\n",
      "Fold 3 test accuracy = 0.7781893846555075\n",
      "Fold 4 test accuracy = 0.7791764933524399\n",
      "Fold 5 test accuracy = 0.7785000392601151\n"
     ]
    }
   ],
   "source": [
    "X = data.drop('Severity', axis=1)\n",
    "X = RobustScaler(quantile_range=(25, 75)).fit_transform(X)\n",
    "y = data['Severity']\n",
    "\n",
    "EPOCHS = 5\n",
    "NEURON_SIZE = 40\n",
    "\n",
    "skf = StratifiedKFold(n_splits=5, random_state=30034, shuffle=True)\n",
    "fold_no = 1\n",
    "accs = []  # store each accuracy\n",
    "\n",
    "for train_index, test_index in skf.split(X, y):\n",
    "    X_train = X[train_index]\n",
    "    X_test = X[test_index]\n",
    "    y_train = y[train_index]\n",
    "    y_test = y[test_index]\n",
    "    acc = my_nn(X_train,y_train,X_test,y_test,NEURON_SIZE,EPOCHS)\n",
    "    accs.append(acc)\n",
    "    print(f\"Fold {str(fold_no)} test accuracy = {acc}\")\n",
    "    fold_no+=1"
   ]
  },
  {
   "cell_type": "code",
   "execution_count": 16,
   "metadata": {
    "scrolled": true
   },
   "outputs": [
    {
     "name": "stdout",
     "output_type": "stream",
     "text": [
      "Average Accuracy:  0.7781073752723883\n"
     ]
    }
   ],
   "source": [
    "print(\"Average Accuracy: \",np.mean(accs))"
   ]
  },
  {
   "cell_type": "markdown",
   "metadata": {},
   "source": [
    "Given that around 74.75% of the data are distributed towards low severity accidents, the model is\n",
    "considered under performing. The accuracy of the final model is only 3% higher than a 0-R\n",
    "baseline model."
   ]
  }
 ],
 "metadata": {
  "kernelspec": {
   "display_name": "Python [conda env:root] *",
   "language": "python",
   "name": "conda-root-py"
  },
  "language_info": {
   "codemirror_mode": {
    "name": "ipython",
    "version": 3
   },
   "file_extension": ".py",
   "mimetype": "text/x-python",
   "name": "python",
   "nbconvert_exporter": "python",
   "pygments_lexer": "ipython3",
   "version": "3.7.1"
  }
 },
 "nbformat": 4,
 "nbformat_minor": 2
}
