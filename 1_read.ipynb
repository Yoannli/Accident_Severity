{
 "cells": [
  {
   "cell_type": "markdown",
   "metadata": {},
   "source": [
    "# Reading the datasets"
   ]
  },
  {
   "cell_type": "code",
   "execution_count": 1,
   "metadata": {},
   "outputs": [],
   "source": [
    "import pandas as pd\n",
    "import feather"
   ]
  },
  {
   "cell_type": "markdown",
   "metadata": {},
   "source": [
    "### Accident Dataset\n",
    "The US road accident dataset is used as the primary dataset for the project which is a countrywide traffic accident dataset obtained from Kaggle (https://www.kaggle.com/sobhanmoosavi/us-accidents) referencing papers from Moosavi (2019). The period of data entries ranges from February 2016 to December 2020. The aim of this project is to determine the features which affect the severity of an accident, and to predict it given a set of features."
   ]
  },
  {
   "cell_type": "code",
   "execution_count": 2,
   "metadata": {},
   "outputs": [
    {
     "name": "stderr",
     "output_type": "stream",
     "text": [
      "C:\\Users\\liyoa\\Anaconda3\\lib\\site-packages\\ipykernel_launcher.py:2: DeprecationWarning: 'U' mode is deprecated\n",
      "  \n"
     ]
    }
   ],
   "source": [
    "FILENAME = \"Datasets/US_Accidents_Dec20_Updated\"\n",
    "data = pd.read_csv(open(\"{}.csv\".format(FILENAME),'rU'), encoding='utf-8', engine='python')"
   ]
  },
  {
   "cell_type": "markdown",
   "metadata": {},
   "source": [
    "### Census Dataset\n",
    "A supplementary dataset records Census data collected by the U.S. Census Bureau (2019). Specifically, the data is gathered from the American Community Survey (ACS) providing census data over a 5 year estimate (2015-2019)."
   ]
  },
  {
   "cell_type": "code",
   "execution_count": 3,
   "metadata": {},
   "outputs": [
    {
     "data": {
      "text/html": [
       "<div>\n",
       "<style scoped>\n",
       "    .dataframe tbody tr th:only-of-type {\n",
       "        vertical-align: middle;\n",
       "    }\n",
       "\n",
       "    .dataframe tbody tr th {\n",
       "        vertical-align: top;\n",
       "    }\n",
       "\n",
       "    .dataframe thead th {\n",
       "        text-align: right;\n",
       "    }\n",
       "</style>\n",
       "<table border=\"1\" class=\"dataframe\">\n",
       "  <thead>\n",
       "    <tr style=\"text-align: right;\">\n",
       "      <th></th>\n",
       "      <th>index</th>\n",
       "      <th>Population_County</th>\n",
       "      <th>Drive_County</th>\n",
       "      <th>Transit_County</th>\n",
       "      <th>Walk_County</th>\n",
       "      <th>MedianHouseholdIncome_County</th>\n",
       "      <th>County</th>\n",
       "      <th>State</th>\n",
       "    </tr>\n",
       "  </thead>\n",
       "  <tbody>\n",
       "    <tr>\n",
       "      <th>0</th>\n",
       "      <td>Fayette County, Illinois: Summary level: 050, ...</td>\n",
       "      <td>21565</td>\n",
       "      <td>85.2</td>\n",
       "      <td>0.8</td>\n",
       "      <td>2.5</td>\n",
       "      <td>46650</td>\n",
       "      <td>fayette</td>\n",
       "      <td>illinois</td>\n",
       "    </tr>\n",
       "    <tr>\n",
       "      <th>1</th>\n",
       "      <td>Logan County, Illinois: Summary level: 050, st...</td>\n",
       "      <td>29003</td>\n",
       "      <td>80.3</td>\n",
       "      <td>0.4</td>\n",
       "      <td>2.9</td>\n",
       "      <td>57308</td>\n",
       "      <td>logan</td>\n",
       "      <td>illinois</td>\n",
       "    </tr>\n",
       "    <tr>\n",
       "      <th>2</th>\n",
       "      <td>Saline County, Illinois: Summary level: 050, s...</td>\n",
       "      <td>23994</td>\n",
       "      <td>84.4</td>\n",
       "      <td>0.9</td>\n",
       "      <td>1.5</td>\n",
       "      <td>44090</td>\n",
       "      <td>saline</td>\n",
       "      <td>illinois</td>\n",
       "    </tr>\n",
       "  </tbody>\n",
       "</table>\n",
       "</div>"
      ],
      "text/plain": [
       "                                               index  Population_County  \\\n",
       "0  Fayette County, Illinois: Summary level: 050, ...              21565   \n",
       "1  Logan County, Illinois: Summary level: 050, st...              29003   \n",
       "2  Saline County, Illinois: Summary level: 050, s...              23994   \n",
       "\n",
       "   Drive_County  Transit_County  Walk_County  MedianHouseholdIncome_County  \\\n",
       "0          85.2             0.8          2.5                         46650   \n",
       "1          80.3             0.4          2.9                         57308   \n",
       "2          84.4             0.9          1.5                         44090   \n",
       "\n",
       "    County     State  \n",
       "0  fayette  illinois  \n",
       "1    logan  illinois  \n",
       "2   saline  illinois  "
      ]
     },
     "execution_count": 3,
     "metadata": {},
     "output_type": "execute_result"
    }
   ],
   "source": [
    "import censusdata\n",
    "\n",
    "county = censusdata.download('acs5', 2019, censusdata.censusgeo([('county', '*')]),\n",
    "                                   ['DP05_0001E',  'DP03_0019PE','DP03_0021PE','DP03_0022PE','DP03_0062E'],\n",
    "                                   tabletype='profile')\n",
    "# rename columns\n",
    "county.columns = ['Population_County','Drive_County','Transit_County','Walk_County','MedianHouseholdIncome_County']\n",
    "county = county.reset_index()\n",
    "# extract county name and convert them to lowercase\n",
    "county['County'] = county['index'].apply(lambda x : x.name.split(' County')[0].split(',')[0]).str.lower()\n",
    "county['State'] = county['index'].apply(lambda x : x.name.split(', ')[1]).str.lower()\n",
    "county.head(3)"
   ]
  },
  {
   "cell_type": "code",
   "execution_count": 4,
   "metadata": {},
   "outputs": [],
   "source": [
    "# Convert all county values in data to lowercase\n",
    "\n",
    "data['State'] = data['State'].str.lower() \n",
    "data['County'] = data['County'].str.lower()\n",
    "\n",
    "counties = []\n",
    "for i in data['County'].values:\n",
    "    counties.append(i.replace(' county', ''))\n",
    "data['County'] = counties"
   ]
  },
  {
   "cell_type": "code",
   "execution_count": 5,
   "metadata": {},
   "outputs": [
    {
     "data": {
      "text/html": [
       "<div>\n",
       "<style scoped>\n",
       "    .dataframe tbody tr th:only-of-type {\n",
       "        vertical-align: middle;\n",
       "    }\n",
       "\n",
       "    .dataframe tbody tr th {\n",
       "        vertical-align: top;\n",
       "    }\n",
       "\n",
       "    .dataframe thead th {\n",
       "        text-align: right;\n",
       "    }\n",
       "</style>\n",
       "<table border=\"1\" class=\"dataframe\">\n",
       "  <thead>\n",
       "    <tr style=\"text-align: right;\">\n",
       "      <th></th>\n",
       "      <th>State</th>\n",
       "    </tr>\n",
       "    <tr>\n",
       "      <th>Abbreviation</th>\n",
       "      <th></th>\n",
       "    </tr>\n",
       "  </thead>\n",
       "  <tbody>\n",
       "    <tr>\n",
       "      <th>al</th>\n",
       "      <td>Alabama</td>\n",
       "    </tr>\n",
       "    <tr>\n",
       "      <th>ak</th>\n",
       "      <td>Alaska</td>\n",
       "    </tr>\n",
       "  </tbody>\n",
       "</table>\n",
       "</div>"
      ],
      "text/plain": [
       "                State\n",
       "Abbreviation         \n",
       "al            Alabama\n",
       "ak             Alaska"
      ]
     },
     "execution_count": 5,
     "metadata": {},
     "output_type": "execute_result"
    }
   ],
   "source": [
    "states = pd.read_csv('Datasets/states.csv') # a csv file with all the US states and their abbreviation \n",
    "states.index = states['Abbreviation'].map(lambda value: value.lower())\n",
    "states = states.drop('Abbreviation',axis=1)\n",
    "states.head(2)"
   ]
  },
  {
   "cell_type": "code",
   "execution_count": 6,
   "metadata": {},
   "outputs": [],
   "source": [
    "data['State'] = [states.loc[i, 'State'] for i in data['State'].values]\n",
    "data['State'] = data['State'].map(lambda value: value.lower())"
   ]
  },
  {
   "cell_type": "markdown",
   "metadata": {},
   "source": [
    "### Merge Accident and Census Datasets"
   ]
  },
  {
   "cell_type": "code",
   "execution_count": 7,
   "metadata": {},
   "outputs": [],
   "source": [
    "# Create join column <state>-<county>\n",
    "def concat_cols(df, cols):\n",
    "    df['combined'] = df[cols].apply(lambda row: '-'.join(row.values.astype(str)), axis=1)\n",
    "    return df\n",
    "\n",
    "data = concat_cols(data, ['State', 'County'])\n",
    "county = concat_cols(county, ['State', 'County'])\n",
    "\n",
    "# left join df with census data\n",
    "data = data.merge(county, left_on = 'combined', right_on='combined',how = \"left\")\n",
    "data = data.drop([\"index\", \"County_y\", \"State_y\", \"combined\"],axis = 1)"
   ]
  },
  {
   "cell_type": "code",
   "execution_count": 8,
   "metadata": {
    "scrolled": true
   },
   "outputs": [
    {
     "data": {
      "text/html": [
       "<div>\n",
       "<style scoped>\n",
       "    .dataframe tbody tr th:only-of-type {\n",
       "        vertical-align: middle;\n",
       "    }\n",
       "\n",
       "    .dataframe tbody tr th {\n",
       "        vertical-align: top;\n",
       "    }\n",
       "\n",
       "    .dataframe thead th {\n",
       "        text-align: right;\n",
       "    }\n",
       "</style>\n",
       "<table border=\"1\" class=\"dataframe\">\n",
       "  <thead>\n",
       "    <tr style=\"text-align: right;\">\n",
       "      <th></th>\n",
       "      <th>ID</th>\n",
       "      <th>Severity</th>\n",
       "      <th>Start_Time</th>\n",
       "      <th>End_Time</th>\n",
       "      <th>Start_Lat</th>\n",
       "      <th>Start_Lng</th>\n",
       "      <th>End_Lat</th>\n",
       "      <th>End_Lng</th>\n",
       "      <th>Distance(mi)</th>\n",
       "      <th>Description</th>\n",
       "      <th>...</th>\n",
       "      <th>Turning_Loop</th>\n",
       "      <th>Sunrise_Sunset</th>\n",
       "      <th>Civil_Twilight</th>\n",
       "      <th>Nautical_Twilight</th>\n",
       "      <th>Astronomical_Twilight</th>\n",
       "      <th>Population_County</th>\n",
       "      <th>Drive_County</th>\n",
       "      <th>Transit_County</th>\n",
       "      <th>Walk_County</th>\n",
       "      <th>MedianHouseholdIncome_County</th>\n",
       "    </tr>\n",
       "  </thead>\n",
       "  <tbody>\n",
       "    <tr>\n",
       "      <th>0</th>\n",
       "      <td>A-1</td>\n",
       "      <td>2</td>\n",
       "      <td>2019-05-21 08:29:55</td>\n",
       "      <td>2019-05-21 09:29:40</td>\n",
       "      <td>34.808868</td>\n",
       "      <td>-82.269157</td>\n",
       "      <td>34.808868</td>\n",
       "      <td>-82.269157</td>\n",
       "      <td>0.0</td>\n",
       "      <td>Accident on Tanner Rd at Pennbrooke Ln.</td>\n",
       "      <td>...</td>\n",
       "      <td>False</td>\n",
       "      <td>Day</td>\n",
       "      <td>Day</td>\n",
       "      <td>Day</td>\n",
       "      <td>Day</td>\n",
       "      <td>507003.0</td>\n",
       "      <td>82.1</td>\n",
       "      <td>0.4</td>\n",
       "      <td>1.4</td>\n",
       "      <td>60351.0</td>\n",
       "    </tr>\n",
       "    <tr>\n",
       "      <th>1</th>\n",
       "      <td>A-2</td>\n",
       "      <td>2</td>\n",
       "      <td>2019-10-07 17:43:09</td>\n",
       "      <td>2019-10-07 19:42:50</td>\n",
       "      <td>35.090080</td>\n",
       "      <td>-80.745560</td>\n",
       "      <td>35.090080</td>\n",
       "      <td>-80.745560</td>\n",
       "      <td>0.0</td>\n",
       "      <td>Accident on Houston Branch Rd at Providence Br...</td>\n",
       "      <td>...</td>\n",
       "      <td>False</td>\n",
       "      <td>Day</td>\n",
       "      <td>Day</td>\n",
       "      <td>Day</td>\n",
       "      <td>Day</td>\n",
       "      <td>1074475.0</td>\n",
       "      <td>77.0</td>\n",
       "      <td>2.9</td>\n",
       "      <td>1.9</td>\n",
       "      <td>66641.0</td>\n",
       "    </tr>\n",
       "  </tbody>\n",
       "</table>\n",
       "<p>2 rows × 52 columns</p>\n",
       "</div>"
      ],
      "text/plain": [
       "    ID  Severity           Start_Time             End_Time  Start_Lat  \\\n",
       "0  A-1         2  2019-05-21 08:29:55  2019-05-21 09:29:40  34.808868   \n",
       "1  A-2         2  2019-10-07 17:43:09  2019-10-07 19:42:50  35.090080   \n",
       "\n",
       "   Start_Lng    End_Lat    End_Lng  Distance(mi)  \\\n",
       "0 -82.269157  34.808868 -82.269157           0.0   \n",
       "1 -80.745560  35.090080 -80.745560           0.0   \n",
       "\n",
       "                                         Description  \\\n",
       "0            Accident on Tanner Rd at Pennbrooke Ln.   \n",
       "1  Accident on Houston Branch Rd at Providence Br...   \n",
       "\n",
       "              ...               Turning_Loop Sunrise_Sunset Civil_Twilight  \\\n",
       "0             ...                      False            Day            Day   \n",
       "1             ...                      False            Day            Day   \n",
       "\n",
       "  Nautical_Twilight Astronomical_Twilight Population_County Drive_County  \\\n",
       "0               Day                   Day          507003.0         82.1   \n",
       "1               Day                   Day         1074475.0         77.0   \n",
       "\n",
       "  Transit_County Walk_County MedianHouseholdIncome_County  \n",
       "0            0.4         1.4                      60351.0  \n",
       "1            2.9         1.9                      66641.0  \n",
       "\n",
       "[2 rows x 52 columns]"
      ]
     },
     "execution_count": 8,
     "metadata": {},
     "output_type": "execute_result"
    }
   ],
   "source": [
    "data.head(2)"
   ]
  },
  {
   "cell_type": "code",
   "execution_count": 9,
   "metadata": {},
   "outputs": [],
   "source": [
    "# Save the dataset\n",
    "data.to_feather(\"Datasets/merged_data.feather\")"
   ]
  }
 ],
 "metadata": {
  "kernelspec": {
   "display_name": "Python [conda env:root] *",
   "language": "python",
   "name": "conda-root-py"
  },
  "language_info": {
   "codemirror_mode": {
    "name": "ipython",
    "version": 3
   },
   "file_extension": ".py",
   "mimetype": "text/x-python",
   "name": "python",
   "nbconvert_exporter": "python",
   "pygments_lexer": "ipython3",
   "version": "3.7.1"
  }
 },
 "nbformat": 4,
 "nbformat_minor": 2
}
