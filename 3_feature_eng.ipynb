{
 "cells": [
  {
   "cell_type": "markdown",
   "metadata": {},
   "source": [
    "# Feature Engineering"
   ]
  },
  {
   "cell_type": "code",
   "execution_count": 50,
   "metadata": {},
   "outputs": [],
   "source": [
    "import pandas as pd\n",
    "import numpy as np\n",
    "import re\n",
    "import feather\n",
    "import seaborn as sns\n",
    "from matplotlib import pyplot as plt\n",
    "from collections import Counter\n",
    "\n",
    "import warnings\n",
    "warnings.filterwarnings(\"ignore\")"
   ]
  },
  {
   "cell_type": "code",
   "execution_count": 51,
   "metadata": {},
   "outputs": [],
   "source": [
    "FILENAME = \"cleaned_data\"\n",
    "data = feather.read_dataframe(f\"Datasets/{FILENAME}.feather\")"
   ]
  },
  {
   "cell_type": "markdown",
   "metadata": {},
   "source": [
    "### Simplify target variable: Severity\n",
    "To simplify our model, I have chosen to change the multi-value Severity variable into a binary variable where severity=0 represents severity of 1 and 2, while severity=1 represents 3 and 4."
   ]
  },
  {
   "cell_type": "code",
   "execution_count": 52,
   "metadata": {},
   "outputs": [
    {
     "name": "stdout",
     "output_type": "stream",
     "text": [
      "Counter({2: 1308514, 3: 388444, 4: 64208, 1: 22235})\n"
     ]
    },
    {
     "data": {
      "image/png": "[encoded data removed]",
      "text/plain": [
       "<Figure size 432x288 with 1 Axes>"
      ]
     },
     "metadata": {
      "needs_background": "light"
     },
     "output_type": "display_data"
    }
   ],
   "source": [
    "data[\"Severity\"] = data[\"Severity\"].astype(int)\n",
    "print(Counter(data['Severity']))\n",
    "\n",
    "sns.countplot(data=data, x=\"Severity\")\n",
    "plt.show()"
   ]
  },
  {
   "cell_type": "code",
   "execution_count": 53,
   "metadata": {},
   "outputs": [
    {
     "name": "stdout",
     "output_type": "stream",
     "text": [
      "Counter({0: 1330749, 1: 452652})\n"
     ]
    },
    {
     "data": {
      "image/png": "[encoded data removed]",
      "text/plain": [
       "<Figure size 432x288 with 1 Axes>"
      ]
     },
     "metadata": {
      "needs_background": "light"
     },
     "output_type": "display_data"
    }
   ],
   "source": [
    "data['Severity'] = np.where(data['Severity']<=2, 0, 1)\n",
    "print(Counter(data[\"Severity\"]))\n",
    "\n",
    "sns.countplot(data=data, x=\"Severity\")\n",
    "plt.show()"
   ]
  },
  {
   "cell_type": "markdown",
   "metadata": {},
   "source": [
    "### Simplify Wind Direction"
   ]
  },
  {
   "cell_type": "code",
   "execution_count": 54,
   "metadata": {},
   "outputs": [
    {
     "data": {
      "text/plain": [
       "Counter({'N': 49641,\n",
       "         'VAR': 52363,\n",
       "         'W': 71861,\n",
       "         'SSW': 110454,\n",
       "         'SSE': 95618,\n",
       "         'NNW': 72464,\n",
       "         'E': 55729,\n",
       "         'NE': 64480,\n",
       "         'West': 69875,\n",
       "         'S': 81895,\n",
       "         'Variable': 57689,\n",
       "         'WSW': 97533,\n",
       "         'SW': 102396,\n",
       "         'ESE': 69711,\n",
       "         'South': 85554,\n",
       "         'ENE': 67654,\n",
       "         'NW': 80585,\n",
       "         'East': 46904,\n",
       "         'CALM': 181271,\n",
       "         'WNW': 87229,\n",
       "         'SE': 77436,\n",
       "         'NNE': 59696,\n",
       "         'North': 45363})"
      ]
     },
     "execution_count": 54,
     "metadata": {},
     "output_type": "execute_result"
    }
   ],
   "source": [
    "Counter(data[\"Wind_Direction\"])"
   ]
  },
  {
   "cell_type": "markdown",
   "metadata": {},
   "source": [
    "* \"CALM\" = [\"Calm\", \"CALM\"]\n",
    "* \"W\" = [\"W\", \"West\", \"WSW\", \"WNW\"] \n",
    "* \"S\" = [\"S\", \"South\", \"SSW\", \"SSE\"] \n",
    "* \"N\" = [\"N\", \"North\", \"NNW\", \"NNE\"] \n",
    "* \"E\" = [\"E\", \"East\", \"ESE\", \"ENE\"]\n",
    "* \"VAR\" = [\"VAR\", \"Variable\"]"
   ]
  },
  {
   "cell_type": "code",
   "execution_count": 55,
   "metadata": {},
   "outputs": [
    {
     "name": "stdout",
     "output_type": "stream",
     "text": [
      "Wind Direction after simplification:  ['N' 'VAR' 'W' 'S' 'E' 'NE' 'SW' 'NW' 'CALM' 'SE']\n"
     ]
    }
   ],
   "source": [
    "data.loc[data['Wind_Direction']=='Calm','Wind_Direction'] = 'CALM'\n",
    "data.loc[(data['Wind_Direction']=='West')|(data['Wind_Direction']=='WSW')|(data['Wind_Direction']=='WNW'),'Wind_Direction'] = 'W'\n",
    "data.loc[(data['Wind_Direction']=='South')|(data['Wind_Direction']=='SSW')|(data['Wind_Direction']=='SSE'),'Wind_Direction'] = 'S'\n",
    "data.loc[(data['Wind_Direction']=='North')|(data['Wind_Direction']=='NNW')|(data['Wind_Direction']=='NNE'),'Wind_Direction'] = 'N'\n",
    "data.loc[(data['Wind_Direction']=='East')|(data['Wind_Direction']=='ESE')|(data['Wind_Direction']=='ENE'),'Wind_Direction'] = 'E'\n",
    "data.loc[data['Wind_Direction']=='Variable','Wind_Direction'] = 'VAR'\n",
    "print(\"Wind Direction after simplification: \", data['Wind_Direction'].unique())"
   ]
  },
  {
   "cell_type": "markdown",
   "metadata": {},
   "source": [
    "### Simplify Weather Condition"
   ]
  },
  {
   "cell_type": "code",
   "execution_count": 56,
   "metadata": {},
   "outputs": [
    {
     "data": {
      "text/plain": [
       "Counter({'Fair': 475004,\n",
       "         'Cloudy': 146123,\n",
       "         'Clear': 289895,\n",
       "         'Overcast': 116526,\n",
       "         'Mostly Cloudy': 275893,\n",
       "         'Partly Cloudy': 192756,\n",
       "         'Haze': 21618,\n",
       "         'Scattered Clouds': 90081,\n",
       "         'Light Rain': 83980,\n",
       "         'Rain': 20711,\n",
       "         'Cloudy / Windy': 2106,\n",
       "         'Thunderstorm': 2431,\n",
       "         'Smoke': 5156,\n",
       "         'Light Drizzle': 4629,\n",
       "         'Heavy Rain': 9209,\n",
       "         'Mist': 626,\n",
       "         'Thunderstorms and Rain': 1180,\n",
       "         'Light Thunderstorms and Rain': 2558,\n",
       "         'Thunder in the Vicinity': 2402,\n",
       "         'Shallow Fog': 521,\n",
       "         'Drizzle': 904,\n",
       "         'Thunder': 2019,\n",
       "         'Drizzle and Fog': 61,\n",
       "         'Fog': 13660,\n",
       "         'Heavy Thunderstorms and Rain': 1256,\n",
       "         'T-Storm': 2709,\n",
       "         'Light Rain with Thunder': 2224,\n",
       "         'Partly Cloudy / Windy': 1933,\n",
       "         'Fair / Windy': 5966,\n",
       "         'Haze / Windy': 97,\n",
       "         'Heavy T-Storm': 1448,\n",
       "         'Light Rain / Windy': 1537,\n",
       "         'Mostly Cloudy / Windy': 3310,\n",
       "         'Widespread Dust': 95,\n",
       "         'Heavy Drizzle': 117,\n",
       "         'Heavy Rain / Windy': 401,\n",
       "         'Patches of Fog': 609,\n",
       "         'Light Rain Shower': 66,\n",
       "         'Heavy T-Storm / Windy': 142,\n",
       "         'Rain / Windy': 501,\n",
       "         'Fog / Windy': 26,\n",
       "         'Smoke / Windy': 52,\n",
       "         'T-Storm / Windy': 119,\n",
       "         'Squalls / Windy': 24,\n",
       "         'Showers in the Vicinity': 221,\n",
       "         'Sand / Dust Whirlwinds': 19,\n",
       "         'Heavy Rain Shower': 1,\n",
       "         'Thunder / Windy': 71,\n",
       "         'Blowing Dust / Windy': 67,\n",
       "         'Rain Showers': 61,\n",
       "         'Light Rain Showers': 78,\n",
       "         'Blowing Dust': 87,\n",
       "         'Light Drizzle / Windy': 25,\n",
       "         'Sand / Dust Whirls Nearby': 1,\n",
       "         'Light Haze': 3,\n",
       "         'Thunder and Hail': 1,\n",
       "         'Squalls': 16,\n",
       "         'Light Snow': 6,\n",
       "         'Rain Shower': 15,\n",
       "         'Heavy Snow': 16,\n",
       "         'N/A Precipitation': 4,\n",
       "         'Patches of Fog / Windy': 6,\n",
       "         'Funnel Cloud': 6,\n",
       "         'Light Thunderstorm': 1,\n",
       "         'Light Rain Shower / Windy': 7,\n",
       "         'Thunder and Hail / Windy': 1,\n",
       "         'Hail': 2,\n",
       "         'Blowing Sand': 1,\n",
       "         'Widespread Dust / Windy': 1,\n",
       "         'Dust Whirls': 1,\n",
       "         'Heavy Rain Showers': 1,\n",
       "         'Drizzle / Windy': 1})"
      ]
     },
     "execution_count": 56,
     "metadata": {},
     "output_type": "execute_result"
    }
   ],
   "source": [
    "Counter(data['Weather_Condition'])"
   ]
  },
  {
   "cell_type": "markdown",
   "metadata": {},
   "source": [
    "Using information from https://www.timeanddate.com/weather/glossary.html <br>\n",
    "\n",
    "* Scattered clouds, partly cloudy = PARTLY CLOUDY <br>\n",
    "* Overcast, Mostly cloudly, Cloudy = CLOUDY <br>\n",
    "* Fair, Clear = CLEAR <br>\n",
    "* Snow (light snow, heavy snow), and wintry mix  = SNOW <br>\n",
    "* Drizzle, light rain/drizzle, light freezing rain/drizzle = LIGHT RAIN <br>\n",
    "* Heavy Rain, heavy thunderstorms, heavy t-storm = HEAVY RAIN <br>\n",
    "* Haze, fog, mist, smoke = fog     *(see https://www.worldatlas.com/articles/what-are-the-differences-between-mist-haze-and-fog.html)*<br>\n",
    "* Rain, light thunderstorms, thunderstorms, t-storm, thunder = RAIN <br>"
   ]
  },
  {
   "cell_type": "code",
   "execution_count": 57,
   "metadata": {
    "scrolled": true
   },
   "outputs": [
    {
     "name": "stdout",
     "output_type": "stream",
     "text": [
      "Clear :\n",
      "{'Clear', 'Fair / Windy', 'Fair'}\n",
      "770865\n",
      "\n",
      "Partly Cloudy :\n",
      "{'Scattered Clouds', 'Partly Cloudy', 'Partly Cloudy / Windy'}\n",
      "284770\n",
      "\n",
      "Cloudy :\n",
      "{'Cloudy / Windy', 'Cloudy', 'Mostly Cloudy / Windy', 'Mostly Cloudy', 'Overcast'}\n",
      "543958\n",
      "\n",
      "Snow :\n",
      "{'Heavy Snow', 'Light Snow'}\n",
      "22\n",
      "\n",
      "Heavy Rain :\n",
      "{'Heavy Drizzle', 'Heavy Rain Showers', 'Heavy Rain', 'Heavy Rain Shower', 'Heavy Rain / Windy'}\n",
      "9729\n",
      "\n",
      "Heavy Thunderstorm :\n",
      "{'Heavy T-Storm / Windy', 'Heavy T-Storm', 'Heavy Thunderstorms and Rain'}\n",
      "2846\n",
      "\n",
      "Thunderstorm :\n",
      "{'Light Thunderstorms and Rain', 'Thunderstorm', 'Light Thunderstorm', 'Thunderstorms and Rain', 'T-Storm / Windy', 'T-Storm', 'Thunder and Hail', 'Thunder and Hail / Windy', 'Thunder', 'Thunder / Windy', 'Light Rain with Thunder', 'Thunder in the Vicinity'}\n",
      "15716\n",
      "\n",
      "Light Rain :\n",
      "{'Light Rain', 'Light Drizzle / Windy', 'Drizzle and Fog', 'Light Rain Shower / Windy', 'Drizzle / Windy', 'Light Rain Shower', 'Light Drizzle', 'Light Rain / Windy', 'Drizzle', 'Light Rain Showers'}\n",
      "91288\n",
      "\n",
      "Rain :\n",
      "{'Rain Showers', 'Rain', 'Rain / Windy', 'Showers in the Vicinity', 'Rain Shower'}\n",
      "21509\n",
      "\n",
      "Fog :\n",
      "{'Shallow Fog', 'Fog', 'Haze', 'Fog / Windy', 'Patches of Fog', 'Patches of Fog / Windy', 'Smoke / Windy', 'Haze / Windy', 'Smoke', 'Mist', 'Light Haze'}\n",
      "42374\n",
      "\n",
      "Others :\n",
      "{'Blowing Sand', 'Hail', 'Blowing Dust / Windy', 'Squalls', 'Blowing Dust', 'Sand / Dust Whirls Nearby', 'Funnel Cloud', 'Widespread Dust / Windy', 'Widespread Dust', 'N/A Precipitation', 'Sand / Dust Whirlwinds', 'Squalls / Windy', 'Dust Whirls'}\n",
      "324\n",
      "\n"
     ]
    }
   ],
   "source": [
    "conditions = ['Clear', 'Partly Cloudy', 'Cloudy', 'Snow',\n",
    "              'Heavy Rain', 'Heavy Thunderstorm', 'Thunderstorm', 'Light Rain',  'Rain', \n",
    "              'Fog'] \n",
    "\n",
    "def get_condition(string, conditions):\n",
    "    strings = [['clear', 'fair'],\n",
    "               ['partly cloudy', 'scattered clouds'],\n",
    "               ['overcast', 'mostly cloudy', 'cloudy'],\n",
    "               ['snow'],\n",
    "               ['heavy rain', 'heavy drizzle'],\n",
    "               ['heavy thunderstorms', 'heavy t-storm'],\n",
    "               ['thunder', 't-storm'],\n",
    "               ['drizzle', 'light rain', 'light freezing rain'],\n",
    "               ['rain', 'thunderstorms', 't-storm', 'thunder', 'showers'],\n",
    "               ['fog', 'haze', 'mist', 'smoke']]\n",
    "\n",
    "    for j, k in enumerate(strings):\n",
    "        for val in k:\n",
    "            if val in string.lower():\n",
    "                return conditions[j]\n",
    "    return 'Others'\n",
    "\n",
    "res = []\n",
    "for i in data['Weather_Condition'].values:\n",
    "    res.append(get_condition(i, conditions))\n",
    "\n",
    "data['Condition'] = res\n",
    "\n",
    "for i in conditions+['Others']:\n",
    "    print(i, \":\")\n",
    "    print(set(data[data['Condition']==i]['Weather_Condition']))\n",
    "    print(sum(data['Condition']==i))\n",
    "    print(\"\")"
   ]
  },
  {
   "cell_type": "code",
   "execution_count": 58,
   "metadata": {},
   "outputs": [],
   "source": [
    "# Since 'Snow' and 'Others' have very few instances, remove these instances\n",
    "data = data[(data['Condition']!='Others') & (data['Condition']!='Snow')]\n",
    "\n",
    "# Replace\n",
    "data['Weather_Condition'] = data['Condition']\n",
    "data.drop('Condition', axis=1, inplace=True)"
   ]
  },
  {
   "cell_type": "markdown",
   "metadata": {},
   "source": [
    "**FIlter out instances with high precipitation but not rainy or storm weather condition**<br>\n",
    "Since we have the weather condition, we can filter out instances where there is high precipitation but the weather condition was clear.\n",
    "\n",
    "According to https://bit.ly/36RRc8b, \"*Light rainfall is considered less than 0.10 inches of rain per hour. Moderate rainfall measures 0.10 to 0.30 inches of rain per hour. Heavy rainfall is more than 0.30 inches of rain per hour.*\""
   ]
  },
  {
   "cell_type": "code",
   "execution_count": 59,
   "metadata": {},
   "outputs": [
    {
     "data": {
      "text/plain": [
       "Counter({'Rain': 6479,\n",
       "         'Cloudy': 2681,\n",
       "         'Light Rain': 7531,\n",
       "         'Heavy Rain': 5245,\n",
       "         'Thunderstorm': 3197,\n",
       "         'Partly Cloudy': 718,\n",
       "         'Heavy Thunderstorm': 1868,\n",
       "         'Fog': 65,\n",
       "         'Clear': 284})"
      ]
     },
     "execution_count": 59,
     "metadata": {},
     "output_type": "execute_result"
    }
   ],
   "source": [
    "Counter(data[data['Precipitation(in)']>0.1]['Weather_Condition'])"
   ]
  },
  {
   "cell_type": "code",
   "execution_count": 75,
   "metadata": {
    "scrolled": true
   },
   "outputs": [
    {
     "data": {
      "text/html": [
       "<div>\n",
       "<style scoped>\n",
       "    .dataframe tbody tr th:only-of-type {\n",
       "        vertical-align: middle;\n",
       "    }\n",
       "\n",
       "    .dataframe tbody tr th {\n",
       "        vertical-align: top;\n",
       "    }\n",
       "\n",
       "    .dataframe thead th {\n",
       "        text-align: right;\n",
       "    }\n",
       "</style>\n",
       "<table border=\"1\" class=\"dataframe\">\n",
       "  <thead>\n",
       "    <tr style=\"text-align: right;\">\n",
       "      <th></th>\n",
       "      <th>Precipitation(in)</th>\n",
       "      <th>Wind_Chill(F)</th>\n",
       "      <th>Wind_Speed(mph)</th>\n",
       "      <th>Visibility(mi)</th>\n",
       "      <th>Humidity(%)</th>\n",
       "      <th>Temperature(F)</th>\n",
       "      <th>Severity</th>\n",
       "      <th>Start_Time</th>\n",
       "      <th>City</th>\n",
       "      <th>County_x</th>\n",
       "      <th>State_x</th>\n",
       "      <th>Airport_Code</th>\n",
       "      <th>Weather_Condition</th>\n",
       "    </tr>\n",
       "  </thead>\n",
       "  <tbody>\n",
       "    <tr>\n",
       "      <th>1648470</th>\n",
       "      <td>0.34</td>\n",
       "      <td>71.595611</td>\n",
       "      <td>5.8</td>\n",
       "      <td>10.0</td>\n",
       "      <td>79.0</td>\n",
       "      <td>77.0</td>\n",
       "      <td>1</td>\n",
       "      <td>2018-05-16 14:08:02</td>\n",
       "      <td>Burlington</td>\n",
       "      <td>alamance</td>\n",
       "      <td>north carolina</td>\n",
       "      <td>KBUY</td>\n",
       "      <td>Clear</td>\n",
       "    </tr>\n",
       "    <tr>\n",
       "      <th>791143</th>\n",
       "      <td>0.80</td>\n",
       "      <td>79.000000</td>\n",
       "      <td>18.0</td>\n",
       "      <td>10.0</td>\n",
       "      <td>96.0</td>\n",
       "      <td>79.0</td>\n",
       "      <td>0</td>\n",
       "      <td>2020-10-29 14:24:19</td>\n",
       "      <td>Montgomery</td>\n",
       "      <td>montgomery</td>\n",
       "      <td>alabama</td>\n",
       "      <td>KMXF</td>\n",
       "      <td>Clear</td>\n",
       "    </tr>\n",
       "    <tr>\n",
       "      <th>1456550</th>\n",
       "      <td>0.53</td>\n",
       "      <td>71.794018</td>\n",
       "      <td>4.6</td>\n",
       "      <td>8.0</td>\n",
       "      <td>94.0</td>\n",
       "      <td>75.0</td>\n",
       "      <td>0</td>\n",
       "      <td>2018-08-10 20:00:33</td>\n",
       "      <td>Northport</td>\n",
       "      <td>tuscaloosa</td>\n",
       "      <td>alabama</td>\n",
       "      <td>KTCL</td>\n",
       "      <td>Clear</td>\n",
       "    </tr>\n",
       "    <tr>\n",
       "      <th>889812</th>\n",
       "      <td>0.53</td>\n",
       "      <td>71.794018</td>\n",
       "      <td>4.6</td>\n",
       "      <td>8.0</td>\n",
       "      <td>94.0</td>\n",
       "      <td>75.0</td>\n",
       "      <td>1</td>\n",
       "      <td>2018-08-10 20:10:45</td>\n",
       "      <td>Cottondale</td>\n",
       "      <td>tuscaloosa</td>\n",
       "      <td>alabama</td>\n",
       "      <td>KTCL</td>\n",
       "      <td>Clear</td>\n",
       "    </tr>\n",
       "    <tr>\n",
       "      <th>251198</th>\n",
       "      <td>0.75</td>\n",
       "      <td>69.464311</td>\n",
       "      <td>19.6</td>\n",
       "      <td>10.0</td>\n",
       "      <td>10.0</td>\n",
       "      <td>76.3</td>\n",
       "      <td>1</td>\n",
       "      <td>2017-05-17 17:23:11</td>\n",
       "      <td>Tombstone</td>\n",
       "      <td>cochise</td>\n",
       "      <td>arizona</td>\n",
       "      <td>KFHU</td>\n",
       "      <td>Clear</td>\n",
       "    </tr>\n",
       "  </tbody>\n",
       "</table>\n",
       "</div>"
      ],
      "text/plain": [
       "         Precipitation(in)  Wind_Chill(F)  Wind_Speed(mph)  Visibility(mi)  \\\n",
       "1648470               0.34      71.595611              5.8            10.0   \n",
       "791143                0.80      79.000000             18.0            10.0   \n",
       "1456550               0.53      71.794018              4.6             8.0   \n",
       "889812                0.53      71.794018              4.6             8.0   \n",
       "251198                0.75      69.464311             19.6            10.0   \n",
       "\n",
       "         Humidity(%)  Temperature(F)  Severity           Start_Time  \\\n",
       "1648470         79.0            77.0         1  2018-05-16 14:08:02   \n",
       "791143          96.0            79.0         0  2020-10-29 14:24:19   \n",
       "1456550         94.0            75.0         0  2018-08-10 20:00:33   \n",
       "889812          94.0            75.0         1  2018-08-10 20:10:45   \n",
       "251198          10.0            76.3         1  2017-05-17 17:23:11   \n",
       "\n",
       "               City    County_x         State_x Airport_Code Weather_Condition  \n",
       "1648470  Burlington    alamance  north carolina         KBUY             Clear  \n",
       "791143   Montgomery  montgomery         alabama         KMXF             Clear  \n",
       "1456550   Northport  tuscaloosa         alabama         KTCL             Clear  \n",
       "889812   Cottondale  tuscaloosa         alabama         KTCL             Clear  \n",
       "251198    Tombstone     cochise         arizona         KFHU             Clear  "
      ]
     },
     "execution_count": 75,
     "metadata": {},
     "output_type": "execute_result"
    }
   ],
   "source": [
    "# Remove instances \n",
    "weather_cols = ['Precipitation(in)', 'Wind_Chill(F)', 'Wind_Speed(mph)', 'Visibility(mi)', 'Humidity(%)', 'Temperature(F)']\n",
    "temp = data[(data['Precipitation(in)']>0.3) & (data['Weather_Condition']=='Clear')]\\\n",
    "            [weather_cols+['Severity', 'Start_Time', 'City', 'County_x', 'State_x', 'Airport_Code', 'Weather_Condition']]\n",
    "temp.sample(5)"
   ]
  },
  {
   "cell_type": "markdown",
   "metadata": {},
   "source": [
    "A quick research of the weather records (from https://www.wunderground.com/) on those days indeed show that there were no actual rain on those days where the weather was clear and the precipitation was higher than 0.30 inches. Therefore, I will remove them."
   ]
  },
  {
   "cell_type": "code",
   "execution_count": 89,
   "metadata": {},
   "outputs": [],
   "source": [
    "data = data[~((data['Precipitation(in)']>0.3) & (data['Weather_Condition']=='Clear'))]"
   ]
  },
  {
   "cell_type": "markdown",
   "metadata": {},
   "source": [
    "### Create Hour, Weekday, Month, Temperature(K) attributes "
   ]
  },
  {
   "cell_type": "code",
   "execution_count": 90,
   "metadata": {},
   "outputs": [],
   "source": [
    "# Convert to datetime format\n",
    "data['Start_Time'] = pd.to_datetime(data['Start_Time'])\n",
    "\n",
    "# Create hour, weekday and month attribute\n",
    "data['Hour'] = data['Start_Time'].dt.hour\n",
    "data['Weekday'] = data['Start_Time'].dt.weekday\n",
    "data['Month'] = data['Start_Time'].dt.month\n",
    "\n",
    "# Convert Farenheit to Kelvin\n",
    "data[\"Temperature(K)\"] = data[\"Temperature(F)\"].map(lambda value: (value - 32) *5/9 + 273.15)\n",
    "data.drop(\"Temperature(F)\", axis=1, inplace=True)"
   ]
  },
  {
   "cell_type": "markdown",
   "metadata": {},
   "source": [
    "### Obtain Street type\n",
    "We can derive the street type based on the 'Street' attribute which might be useful in prediction.\n",
    "\n",
    "*Credit to Jinz Wang from https://www.kaggle.com/jingzongwang/usa-car-accidents-severity-prediction for the idea*"
   ]
  },
  {
   "cell_type": "code",
   "execution_count": 91,
   "metadata": {},
   "outputs": [
    {
     "name": "stdout",
     "output_type": "stream",
     "text": [
      "The 40 most common words\n",
      ", Rd, St, Dr, Ave, N, S, E, W, Blvd, Ln, Highway, Hwy, Way, SW, Pkwy, State, NE, NW, Ct, SE, Road, Pl, Old, US, Route, Cir, Creek, Lake, Park, Hill, County, Trl, Valley, Ridge, Ter, Pike, Mill, I, River\n"
     ]
    }
   ],
   "source": [
    "st_type =' '.join(data['Street'].unique().tolist()) # flat the array of street name\n",
    "st_type = re.split(\" |-\", st_type) # split the long string by space and hyphen\n",
    "st_type = [x[0] for x in Counter(st_type).most_common(40)] # select the 40 most common words\n",
    "print('The 40 most common words')\n",
    "print(*st_type, sep = \", \") \n",
    "\n",
    "temp = data[['Severity', 'Street']]\n",
    "for i in st_type:\n",
    "    temp[i.strip()] = np.where(data['Street'].str.contains(i, case=True, na = False), True, False)\n",
    "temp.loc[temp['Road']==1,'Rd'] = True\n",
    "temp.loc[temp['Highway']==1,'Hwy'] = True"
   ]
  },
  {
   "cell_type": "code",
   "execution_count": 92,
   "metadata": {
    "scrolled": false
   },
   "outputs": [
    {
     "data": {
      "image/png": "[encoded data removed]",
      "text/plain": [
       "<Figure size 216x936 with 2 Axes>"
      ]
     },
     "metadata": {
      "needs_background": "light"
     },
     "output_type": "display_data"
    }
   ],
   "source": [
    "corr = temp[['Severity']+st_type].corr()[[\"Severity\"]]\n",
    "corr = corr.reindex(corr[\"Severity\"].abs().sort_values(ascending=True).index)[:-2]\n",
    "m = max(corr['Severity'].abs())\n",
    "plt.figure(figsize=(3,13))\n",
    "ax = sns.heatmap(corr, vmax=m, vmin=-m, cmap=sns.diverging_palette(220, 220, as_cmap=True), annot=True);\n",
    "ax.invert_yaxis()\n",
    "plt.title(\"Correlation with Severity\")\n",
    "plt.show()"
   ]
  },
  {
   "cell_type": "markdown",
   "metadata": {},
   "source": [
    "Pick the top 3 most correlated (by magnitude) street types and add them as dummy variables to our dataset. These are:\n",
    "* I (interstate highway)\n",
    "* Rd (basic road)\n",
    "* Ave (avenue)"
   ]
  },
  {
   "cell_type": "code",
   "execution_count": 93,
   "metadata": {},
   "outputs": [
    {
     "data": {
      "text/html": [
       "<div>\n",
       "<style scoped>\n",
       "    .dataframe tbody tr th:only-of-type {\n",
       "        vertical-align: middle;\n",
       "    }\n",
       "\n",
       "    .dataframe tbody tr th {\n",
       "        vertical-align: top;\n",
       "    }\n",
       "\n",
       "    .dataframe thead th {\n",
       "        text-align: right;\n",
       "    }\n",
       "</style>\n",
       "<table border=\"1\" class=\"dataframe\">\n",
       "  <thead>\n",
       "    <tr style=\"text-align: right;\">\n",
       "      <th></th>\n",
       "      <th>Severity</th>\n",
       "      <th>Start_Time</th>\n",
       "      <th>Start_Lat</th>\n",
       "      <th>Start_Lng</th>\n",
       "      <th>Street</th>\n",
       "      <th>Side</th>\n",
       "      <th>City</th>\n",
       "      <th>County_x</th>\n",
       "      <th>State_x</th>\n",
       "      <th>Zipcode</th>\n",
       "      <th>...</th>\n",
       "      <th>Transit_County</th>\n",
       "      <th>Walk_County</th>\n",
       "      <th>MedianHouseholdIncome_County</th>\n",
       "      <th>Hour</th>\n",
       "      <th>Weekday</th>\n",
       "      <th>Month</th>\n",
       "      <th>Temperature(K)</th>\n",
       "      <th>Ave</th>\n",
       "      <th>Rd</th>\n",
       "      <th>I</th>\n",
       "    </tr>\n",
       "  </thead>\n",
       "  <tbody>\n",
       "    <tr>\n",
       "      <th>0</th>\n",
       "      <td>0</td>\n",
       "      <td>2019-05-21 08:29:55</td>\n",
       "      <td>34.808868</td>\n",
       "      <td>-82.269157</td>\n",
       "      <td>Tanner Rd</td>\n",
       "      <td>R</td>\n",
       "      <td>Greenville</td>\n",
       "      <td>greenville</td>\n",
       "      <td>south carolina</td>\n",
       "      <td>29607-6027</td>\n",
       "      <td>...</td>\n",
       "      <td>0.4</td>\n",
       "      <td>1.4</td>\n",
       "      <td>60351.0</td>\n",
       "      <td>8</td>\n",
       "      <td>1</td>\n",
       "      <td>5</td>\n",
       "      <td>297.594444</td>\n",
       "      <td>False</td>\n",
       "      <td>True</td>\n",
       "      <td>False</td>\n",
       "    </tr>\n",
       "    <tr>\n",
       "      <th>1</th>\n",
       "      <td>0</td>\n",
       "      <td>2019-10-07 17:43:09</td>\n",
       "      <td>35.090080</td>\n",
       "      <td>-80.745560</td>\n",
       "      <td>Providence Branch Ln</td>\n",
       "      <td>R</td>\n",
       "      <td>Charlotte</td>\n",
       "      <td>mecklenburg</td>\n",
       "      <td>north carolina</td>\n",
       "      <td>28270-8560</td>\n",
       "      <td>...</td>\n",
       "      <td>2.9</td>\n",
       "      <td>1.9</td>\n",
       "      <td>66641.0</td>\n",
       "      <td>17</td>\n",
       "      <td>0</td>\n",
       "      <td>10</td>\n",
       "      <td>297.594444</td>\n",
       "      <td>False</td>\n",
       "      <td>False</td>\n",
       "      <td>False</td>\n",
       "    </tr>\n",
       "    <tr>\n",
       "      <th>2</th>\n",
       "      <td>0</td>\n",
       "      <td>2020-12-13 21:53:00</td>\n",
       "      <td>37.145730</td>\n",
       "      <td>-121.985052</td>\n",
       "      <td>Santa Cruz Hwy</td>\n",
       "      <td>R</td>\n",
       "      <td>Los Gatos</td>\n",
       "      <td>santa clara</td>\n",
       "      <td>california</td>\n",
       "      <td>95033</td>\n",
       "      <td>...</td>\n",
       "      <td>4.4</td>\n",
       "      <td>2.1</td>\n",
       "      <td>124055.0</td>\n",
       "      <td>21</td>\n",
       "      <td>6</td>\n",
       "      <td>12</td>\n",
       "      <td>283.705556</td>\n",
       "      <td>False</td>\n",
       "      <td>False</td>\n",
       "      <td>False</td>\n",
       "    </tr>\n",
       "  </tbody>\n",
       "</table>\n",
       "<p>3 rows × 49 columns</p>\n",
       "</div>"
      ],
      "text/plain": [
       "   Severity          Start_Time  Start_Lat   Start_Lng                Street  \\\n",
       "0         0 2019-05-21 08:29:55  34.808868  -82.269157             Tanner Rd   \n",
       "1         0 2019-10-07 17:43:09  35.090080  -80.745560  Providence Branch Ln   \n",
       "2         0 2020-12-13 21:53:00  37.145730 -121.985052        Santa Cruz Hwy   \n",
       "\n",
       "  Side        City     County_x         State_x     Zipcode  ...    \\\n",
       "0    R  Greenville   greenville  south carolina  29607-6027  ...     \n",
       "1    R   Charlotte  mecklenburg  north carolina  28270-8560  ...     \n",
       "2    R   Los Gatos  santa clara      california       95033  ...     \n",
       "\n",
       "  Transit_County Walk_County MedianHouseholdIncome_County  Hour  Weekday  \\\n",
       "0            0.4         1.4                      60351.0     8        1   \n",
       "1            2.9         1.9                      66641.0    17        0   \n",
       "2            4.4         2.1                     124055.0    21        6   \n",
       "\n",
       "   Month  Temperature(K)    Ave     Rd      I  \n",
       "0      5      297.594444  False   True  False  \n",
       "1     10      297.594444  False  False  False  \n",
       "2     12      283.705556  False  False  False  \n",
       "\n",
       "[3 rows x 49 columns]"
      ]
     },
     "execution_count": 93,
     "metadata": {},
     "output_type": "execute_result"
    }
   ],
   "source": [
    "top3 = corr[-3:].index # top 3 most correlated street types\n",
    "data = pd.concat([data, temp[top3]],axis=1)\n",
    "data.head(3)"
   ]
  },
  {
   "cell_type": "markdown",
   "metadata": {},
   "source": [
    "### Save the data"
   ]
  },
  {
   "cell_type": "code",
   "execution_count": 94,
   "metadata": {},
   "outputs": [],
   "source": [
    "data.reset_index(inplace=True, drop=True)\n",
    "data.to_feather(\"Datasets/feateng_data.feather\")"
   ]
  }
 ],
 "metadata": {
  "kernelspec": {
   "display_name": "Python [conda env:root] *",
   "language": "python",
   "name": "conda-root-py"
  },
  "language_info": {
   "codemirror_mode": {
    "name": "ipython",
    "version": 3
   },
   "file_extension": ".py",
   "mimetype": "text/x-python",
   "name": "python",
   "nbconvert_exporter": "python",
   "pygments_lexer": "ipython3",
   "version": "3.7.1"
  }
 },
 "nbformat": 4,
 "nbformat_minor": 2
}
